{
  "nbformat": 4,
  "nbformat_minor": 0,
  "metadata": {
    "colab": {
      "provenance": [],
      "authorship_tag": "ABX9TyOjmrkvKaEpl/gCO8D+EfFd",
      "include_colab_link": true
    },
    "kernelspec": {
      "name": "python3",
      "display_name": "Python 3"
    },
    "language_info": {
      "name": "python"
    }
  },
  "cells": [
    {
      "cell_type": "markdown",
      "metadata": {
        "id": "view-in-github",
        "colab_type": "text"
      },
      "source": [
        "<a href=\"https://colab.research.google.com/github/karthik-vsc/firstrepo/blob/main/python.ipynb\" target=\"_parent\"><img src=\"https://colab.research.google.com/assets/colab-badge.svg\" alt=\"Open In Colab\"/></a>"
      ]
    },
    {
      "cell_type": "code",
      "execution_count": 10,
      "metadata": {
        "colab": {
          "base_uri": "https://localhost:8080/"
        },
        "id": "5rY-erleQa-8",
        "outputId": "22893eee-55aa-4460-9365-19c75fd71772"
      },
      "outputs": [
        {
          "output_type": "execute_result",
          "data": {
            "text/plain": [
              "[58, 71, 69, 90, 85]"
            ]
          },
          "metadata": {},
          "execution_count": 10
        }
      ],
      "source": [
        "#to give inncrement of 2 to every students whose score is less than 70\n",
        "scores=[56,71,67,90,85]\n",
        "[score+2 if score<70 else score for score in scores]"
      ]
    },
    {
      "cell_type": "code",
      "source": [
        "#to get the students whose name starts with 's'\n",
        "import re\n",
        "students=['Sara','Sam','sahil','jane','jasmin']\n",
        "[student for student in students if student.upper().startswith('S')]"
      ],
      "metadata": {
        "colab": {
          "base_uri": "https://localhost:8080/"
        },
        "id": "ZcqZOwHBW7NF",
        "outputId": "4b7083e0-10ee-4729-ea45-c27cf071e6ca"
      },
      "execution_count": 13,
      "outputs": [
        {
          "output_type": "execute_result",
          "data": {
            "text/plain": [
              "['Sara', 'Sam', 'sahil']"
            ]
          },
          "metadata": {},
          "execution_count": 13
        }
      ]
    },
    {
      "cell_type": "code",
      "source": [
        "#[20,60,120,200]->[1*20,2*30,3*40,4*59]\n",
        "[i*j for i,j in zip(range(1,5),range(20,60,10))]"
      ],
      "metadata": {
        "colab": {
          "base_uri": "https://localhost:8080/"
        },
        "id": "JZBtEIWnYYgc",
        "outputId": "c146faee-2852-44e5-e3cc-fcd9ea6d8c30"
      },
      "execution_count": 12,
      "outputs": [
        {
          "output_type": "execute_result",
          "data": {
            "text/plain": [
              "[20, 60, 120, 200]"
            ]
          },
          "metadata": {},
          "execution_count": 12
        }
      ]
    },
    {
      "cell_type": "code",
      "source": [
        "#numtiple every even element by 10 and odd element by 5\n",
        "numbers=[10,21,36,57,45]\n",
        "[num*10 if num%2==0 else num*5 for num in numbers]"
      ],
      "metadata": {
        "colab": {
          "base_uri": "https://localhost:8080/"
        },
        "id": "v2aBmBiTZjDD",
        "outputId": "72dec7ec-1208-4e69-a9e5-e22eba91540a"
      },
      "execution_count": 24,
      "outputs": [
        {
          "output_type": "execute_result",
          "data": {
            "text/plain": [
              "[100, 105, 360, 285, 225]"
            ]
          },
          "metadata": {},
          "execution_count": 24
        }
      ]
    },
    {
      "cell_type": "code",
      "source": [
        "#mult 10 for every even index and 5 for every odd index\n",
        "[num*10 if id%2==0 else num*5 for id,num in enumerate(numbers)]"
      ],
      "metadata": {
        "colab": {
          "base_uri": "https://localhost:8080/"
        },
        "id": "9IJ1Kc9ocJ6s",
        "outputId": "68bb3400-1cb2-49b6-baf8-cbf671fb3e9f"
      },
      "execution_count": 28,
      "outputs": [
        {
          "output_type": "execute_result",
          "data": {
            "text/plain": [
              "[100, 105, 360, 285, 450]"
            ]
          },
          "metadata": {},
          "execution_count": 28
        }
      ]
    },
    {
      "cell_type": "code",
      "source": [
        "#tuple comprehension will return an generator, we need to typecast to convert into tuple\n",
        "t=(i for i in range(10))\n",
        "t"
      ],
      "metadata": {
        "colab": {
          "base_uri": "https://localhost:8080/"
        },
        "id": "bJZ3uu0BdoNH",
        "outputId": "71acc7b8-d28e-4872-d424-84966a790011"
      },
      "execution_count": 1,
      "outputs": [
        {
          "output_type": "execute_result",
          "data": {
            "text/plain": [
              "<generator object <genexpr> at 0x7f6bc3199930>"
            ]
          },
          "metadata": {},
          "execution_count": 1
        }
      ]
    },
    {
      "cell_type": "code",
      "source": [
        "#write a prog to generate a dict with keys as ID , values as names using dict comprehension\n",
        "names=['Sara','Sam','sahil','Jane','jasmine']\n",
        "{f\"S{idx}\":name for idx,name in enumerate(names,1) if not name.lower().startswith('s')}"
      ],
      "metadata": {
        "colab": {
          "base_uri": "https://localhost:8080/"
        },
        "id": "hq5JT-roiRHC",
        "outputId": "584d7b09-7061-4f3e-89f5-9b85a0f4fa14"
      },
      "execution_count": 9,
      "outputs": [
        {
          "output_type": "execute_result",
          "data": {
            "text/plain": [
              "{'S4': 'Jane', 'S5': 'jasmine'}"
            ]
          },
          "metadata": {},
          "execution_count": 9
        }
      ]
    },
    {
      "cell_type": "code",
      "source": [
        "help(sorted)"
      ],
      "metadata": {
        "colab": {
          "base_uri": "https://localhost:8080/"
        },
        "id": "JAA8eWmnZgQ-",
        "outputId": "57abad2d-5aa9-498c-cd07-83de7d0eb5cc"
      },
      "execution_count": 3,
      "outputs": [
        {
          "output_type": "stream",
          "name": "stdout",
          "text": [
            "Help on built-in function sorted in module builtins:\n",
            "\n",
            "sorted(iterable, /, *, key=None, reverse=False)\n",
            "    Return a new list containing all items from the iterable in ascending order.\n",
            "    \n",
            "    A custom key function can be supplied to customize the sort order, and the\n",
            "    reverse flag can be set to request the result in descending order.\n",
            "\n"
          ]
        }
      ]
    },
    {
      "cell_type": "code",
      "source": [
        "details=[('harry',36),('berry',96),('Sam',56)]\n",
        "def get_second(x):\n",
        "  return x[1]\n",
        "sorted(details,key=get_second)"
      ],
      "metadata": {
        "colab": {
          "base_uri": "https://localhost:8080/"
        },
        "id": "hP8_pk_MbxKC",
        "outputId": "7689419c-7446-43e0-9cb6-c674fe5d8b2b"
      },
      "execution_count": 7,
      "outputs": [
        {
          "output_type": "execute_result",
          "data": {
            "text/plain": [
              "[('harry', 36), ('Sam', 56), ('berry', 96)]"
            ]
          },
          "metadata": {},
          "execution_count": 7
        }
      ]
    },
    {
      "cell_type": "markdown",
      "source": [
        "**Lambda function** : shorthand to write one line function that takes mutiple arguments and returns respective results"
      ],
      "metadata": {
        "id": "Vs1C6EkkcoqD"
      }
    },
    {
      "cell_type": "code",
      "source": [
        "sorted(details,key=lambda x:x[1])"
      ],
      "metadata": {
        "colab": {
          "base_uri": "https://localhost:8080/"
        },
        "id": "IXMQvb47cnAY",
        "outputId": "6c7b234e-78af-4ff0-efc3-377b99056da8"
      },
      "execution_count": 8,
      "outputs": [
        {
          "output_type": "execute_result",
          "data": {
            "text/plain": [
              "[('harry', 36), ('Sam', 56), ('berry', 96)]"
            ]
          },
          "metadata": {},
          "execution_count": 8
        }
      ]
    },
    {
      "cell_type": "code",
      "source": [
        "details=[('Nazira','5.6 feets','68 years'),\n",
        "          ('Harry','6 feets','40 years'),\n",
        "          ('Berry','5.2 feets','15 years')]\n",
        "sorted(details,key=lambda x:int(x[2].split(' ')[0]))"
      ],
      "metadata": {
        "colab": {
          "base_uri": "https://localhost:8080/"
        },
        "id": "X_WA4RMWdMS4",
        "outputId": "27b32595-571c-4128-c1a0-40131e565ac2"
      },
      "execution_count": 16,
      "outputs": [
        {
          "output_type": "execute_result",
          "data": {
            "text/plain": [
              "[('Berry', '5.2 feets', '15 years'),\n",
              " ('Harry', '6 feets', '40 years'),\n",
              " ('Nazira', '5.6 feets', '68 years')]"
            ]
          },
          "metadata": {},
          "execution_count": 16
        }
      ]
    },
    {
      "cell_type": "code",
      "source": [],
      "metadata": {
        "id": "gVs7GOglfuKN"
      },
      "execution_count": null,
      "outputs": []
    }
  ]
}